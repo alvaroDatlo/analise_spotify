{
 "cells": [
  {
   "cell_type": "code",
   "execution_count": 105,
   "metadata": {},
   "outputs": [],
   "source": [
    "import pandas as pd\n",
    "import seaborn as sns\n",
    "from sklearn.preprocessing import MinMaxScaler"
   ]
  },
  {
   "cell_type": "code",
   "execution_count": 106,
   "metadata": {},
   "outputs": [
    {
     "data": {
      "text/html": [
       "<div>\n",
       "<style scoped>\n",
       "    .dataframe tbody tr th:only-of-type {\n",
       "        vertical-align: middle;\n",
       "    }\n",
       "\n",
       "    .dataframe tbody tr th {\n",
       "        vertical-align: top;\n",
       "    }\n",
       "\n",
       "    .dataframe thead th {\n",
       "        text-align: right;\n",
       "    }\n",
       "</style>\n",
       "<table border=\"1\" class=\"dataframe\">\n",
       "  <thead>\n",
       "    <tr style=\"text-align: right;\">\n",
       "      <th></th>\n",
       "      <th>track_id</th>\n",
       "      <th>artists</th>\n",
       "      <th>album_name</th>\n",
       "      <th>track_name</th>\n",
       "      <th>popularity</th>\n",
       "      <th>duration_ms</th>\n",
       "      <th>explicit</th>\n",
       "      <th>danceability</th>\n",
       "      <th>energy</th>\n",
       "      <th>key</th>\n",
       "      <th>loudness</th>\n",
       "      <th>mode</th>\n",
       "      <th>speechiness</th>\n",
       "      <th>acousticness</th>\n",
       "      <th>instrumentalness</th>\n",
       "      <th>liveness</th>\n",
       "      <th>valence</th>\n",
       "      <th>tempo</th>\n",
       "      <th>time_signature</th>\n",
       "      <th>track_genre</th>\n",
       "    </tr>\n",
       "  </thead>\n",
       "  <tbody>\n",
       "    <tr>\n",
       "      <th>0</th>\n",
       "      <td>5SuOikwiRyPMVoIQDJUgSV</td>\n",
       "      <td>Gen Hoshino</td>\n",
       "      <td>Comedy</td>\n",
       "      <td>Comedy</td>\n",
       "      <td>73</td>\n",
       "      <td>230666</td>\n",
       "      <td>False</td>\n",
       "      <td>0.676</td>\n",
       "      <td>0.4610</td>\n",
       "      <td>1</td>\n",
       "      <td>-6.746</td>\n",
       "      <td>0</td>\n",
       "      <td>0.1430</td>\n",
       "      <td>0.0322</td>\n",
       "      <td>0.000001</td>\n",
       "      <td>0.3580</td>\n",
       "      <td>0.715</td>\n",
       "      <td>87.917</td>\n",
       "      <td>4</td>\n",
       "      <td>acoustic</td>\n",
       "    </tr>\n",
       "    <tr>\n",
       "      <th>1</th>\n",
       "      <td>4qPNDBW1i3p13qLCt0Ki3A</td>\n",
       "      <td>Ben Woodward</td>\n",
       "      <td>Ghost (Acoustic)</td>\n",
       "      <td>Ghost - Acoustic</td>\n",
       "      <td>55</td>\n",
       "      <td>149610</td>\n",
       "      <td>False</td>\n",
       "      <td>0.420</td>\n",
       "      <td>0.1660</td>\n",
       "      <td>1</td>\n",
       "      <td>-17.235</td>\n",
       "      <td>1</td>\n",
       "      <td>0.0763</td>\n",
       "      <td>0.9240</td>\n",
       "      <td>0.000006</td>\n",
       "      <td>0.1010</td>\n",
       "      <td>0.267</td>\n",
       "      <td>77.489</td>\n",
       "      <td>4</td>\n",
       "      <td>acoustic</td>\n",
       "    </tr>\n",
       "    <tr>\n",
       "      <th>2</th>\n",
       "      <td>1iJBSr7s7jYXzM8EGcbK5b</td>\n",
       "      <td>Ingrid Michaelson;ZAYN</td>\n",
       "      <td>To Begin Again</td>\n",
       "      <td>To Begin Again</td>\n",
       "      <td>57</td>\n",
       "      <td>210826</td>\n",
       "      <td>False</td>\n",
       "      <td>0.438</td>\n",
       "      <td>0.3590</td>\n",
       "      <td>0</td>\n",
       "      <td>-9.734</td>\n",
       "      <td>1</td>\n",
       "      <td>0.0557</td>\n",
       "      <td>0.2100</td>\n",
       "      <td>0.000000</td>\n",
       "      <td>0.1170</td>\n",
       "      <td>0.120</td>\n",
       "      <td>76.332</td>\n",
       "      <td>4</td>\n",
       "      <td>acoustic</td>\n",
       "    </tr>\n",
       "    <tr>\n",
       "      <th>3</th>\n",
       "      <td>6lfxq3CG4xtTiEg7opyCyx</td>\n",
       "      <td>Kina Grannis</td>\n",
       "      <td>Crazy Rich Asians (Original Motion Picture Sou...</td>\n",
       "      <td>Can't Help Falling In Love</td>\n",
       "      <td>71</td>\n",
       "      <td>201933</td>\n",
       "      <td>False</td>\n",
       "      <td>0.266</td>\n",
       "      <td>0.0596</td>\n",
       "      <td>0</td>\n",
       "      <td>-18.515</td>\n",
       "      <td>1</td>\n",
       "      <td>0.0363</td>\n",
       "      <td>0.9050</td>\n",
       "      <td>0.000071</td>\n",
       "      <td>0.1320</td>\n",
       "      <td>0.143</td>\n",
       "      <td>181.740</td>\n",
       "      <td>3</td>\n",
       "      <td>acoustic</td>\n",
       "    </tr>\n",
       "    <tr>\n",
       "      <th>4</th>\n",
       "      <td>5vjLSffimiIP26QG5WcN2K</td>\n",
       "      <td>Chord Overstreet</td>\n",
       "      <td>Hold On</td>\n",
       "      <td>Hold On</td>\n",
       "      <td>82</td>\n",
       "      <td>198853</td>\n",
       "      <td>False</td>\n",
       "      <td>0.618</td>\n",
       "      <td>0.4430</td>\n",
       "      <td>2</td>\n",
       "      <td>-9.681</td>\n",
       "      <td>1</td>\n",
       "      <td>0.0526</td>\n",
       "      <td>0.4690</td>\n",
       "      <td>0.000000</td>\n",
       "      <td>0.0829</td>\n",
       "      <td>0.167</td>\n",
       "      <td>119.949</td>\n",
       "      <td>4</td>\n",
       "      <td>acoustic</td>\n",
       "    </tr>\n",
       "  </tbody>\n",
       "</table>\n",
       "</div>"
      ],
      "text/plain": [
       "                 track_id                 artists  \\\n",
       "0  5SuOikwiRyPMVoIQDJUgSV             Gen Hoshino   \n",
       "1  4qPNDBW1i3p13qLCt0Ki3A            Ben Woodward   \n",
       "2  1iJBSr7s7jYXzM8EGcbK5b  Ingrid Michaelson;ZAYN   \n",
       "3  6lfxq3CG4xtTiEg7opyCyx            Kina Grannis   \n",
       "4  5vjLSffimiIP26QG5WcN2K        Chord Overstreet   \n",
       "\n",
       "                                          album_name  \\\n",
       "0                                             Comedy   \n",
       "1                                   Ghost (Acoustic)   \n",
       "2                                     To Begin Again   \n",
       "3  Crazy Rich Asians (Original Motion Picture Sou...   \n",
       "4                                            Hold On   \n",
       "\n",
       "                   track_name  popularity  duration_ms  explicit  \\\n",
       "0                      Comedy          73       230666     False   \n",
       "1            Ghost - Acoustic          55       149610     False   \n",
       "2              To Begin Again          57       210826     False   \n",
       "3  Can't Help Falling In Love          71       201933     False   \n",
       "4                     Hold On          82       198853     False   \n",
       "\n",
       "   danceability  energy  key  loudness  mode  speechiness  acousticness  \\\n",
       "0         0.676  0.4610    1    -6.746     0       0.1430        0.0322   \n",
       "1         0.420  0.1660    1   -17.235     1       0.0763        0.9240   \n",
       "2         0.438  0.3590    0    -9.734     1       0.0557        0.2100   \n",
       "3         0.266  0.0596    0   -18.515     1       0.0363        0.9050   \n",
       "4         0.618  0.4430    2    -9.681     1       0.0526        0.4690   \n",
       "\n",
       "   instrumentalness  liveness  valence    tempo  time_signature track_genre  \n",
       "0          0.000001    0.3580    0.715   87.917               4    acoustic  \n",
       "1          0.000006    0.1010    0.267   77.489               4    acoustic  \n",
       "2          0.000000    0.1170    0.120   76.332               4    acoustic  \n",
       "3          0.000071    0.1320    0.143  181.740               3    acoustic  \n",
       "4          0.000000    0.0829    0.167  119.949               4    acoustic  "
      ]
     },
     "execution_count": 106,
     "metadata": {},
     "output_type": "execute_result"
    }
   ],
   "source": [
    "df = pd.read_csv('train.csv')\n",
    "df.drop(columns=['Unnamed: 0'], inplace=True)\n",
    "df.head()"
   ]
  },
  {
   "cell_type": "code",
   "execution_count": 107,
   "metadata": {},
   "outputs": [
    {
     "data": {
      "text/plain": [
       "track_id            0\n",
       "artists             1\n",
       "album_name          1\n",
       "track_name          1\n",
       "popularity          0\n",
       "duration_ms         0\n",
       "explicit            0\n",
       "danceability        0\n",
       "energy              0\n",
       "key                 0\n",
       "loudness            0\n",
       "mode                0\n",
       "speechiness         0\n",
       "acousticness        0\n",
       "instrumentalness    0\n",
       "liveness            0\n",
       "valence             0\n",
       "tempo               0\n",
       "time_signature      0\n",
       "track_genre         0\n",
       "dtype: int64"
      ]
     },
     "execution_count": 107,
     "metadata": {},
     "output_type": "execute_result"
    }
   ],
   "source": [
    "df.isna().sum()"
   ]
  },
  {
   "cell_type": "code",
   "execution_count": 108,
   "metadata": {},
   "outputs": [],
   "source": [
    "df.dropna(inplace=True)"
   ]
  },
  {
   "cell_type": "code",
   "execution_count": 109,
   "metadata": {},
   "outputs": [
    {
     "data": {
      "text/plain": [
       "((113999, 20), 31437)"
      ]
     },
     "execution_count": 109,
     "metadata": {},
     "output_type": "execute_result"
    }
   ],
   "source": [
    "df.shape , len(df.artists.unique())"
   ]
  },
  {
   "cell_type": "markdown",
   "metadata": {},
   "source": [
    "# Dia 01"
   ]
  },
  {
   "cell_type": "markdown",
   "metadata": {},
   "source": [
    "### Transformar variáveis booleanas em “Yes” e “No”"
   ]
  },
  {
   "cell_type": "code",
   "execution_count": 110,
   "metadata": {},
   "outputs": [],
   "source": [
    "df['explicit'] = df['explicit'].replace({True: 'Yes', False: 'No'})"
   ]
  },
  {
   "cell_type": "markdown",
   "metadata": {},
   "source": [
    "### Transformar as escalas das variáveis de 0 a 1 para 0 a 100"
   ]
  },
  {
   "cell_type": "code",
   "execution_count": 111,
   "metadata": {},
   "outputs": [],
   "source": [
    "data = [\n",
    "    'danceability',\n",
    "    'energy',\n",
    "    'speechiness',\n",
    "    'acousticness',\n",
    "    'instrumentalness',\n",
    "    'liveness',\n",
    "    'valence'\n",
    "]"
   ]
  },
  {
   "cell_type": "code",
   "execution_count": 112,
   "metadata": {},
   "outputs": [],
   "source": [
    "# só multiplicar por 100\n",
    "scaler = MinMaxScaler(feature_range=(0, 100))\n",
    "scaler.fit(df[data])\n",
    "df[data] = scaler.transform(df[data])"
   ]
  },
  {
   "cell_type": "markdown",
   "metadata": {},
   "source": [
    "### Transformar a variável track_genre em que a primeira letra fique maiúscula"
   ]
  },
  {
   "cell_type": "code",
   "execution_count": 113,
   "metadata": {},
   "outputs": [],
   "source": [
    "df.track_genre = df.track_genre.str.capitalize()"
   ]
  },
  {
   "cell_type": "markdown",
   "metadata": {},
   "source": [
    "### Criar a coluna album_extra extraindo os caracteres dentro do parênteses da variável album_name"
   ]
  },
  {
   "cell_type": "code",
   "execution_count": 114,
   "metadata": {},
   "outputs": [],
   "source": [
    "df[['album_name', 'album_extra']] = df['album_name'].str.split('(', n=1, expand=True)\n",
    "df['album_extra'] = df['album_extra'].str.split(')', n=0, expand=True)[0]"
   ]
  },
  {
   "cell_type": "markdown",
   "metadata": {},
   "source": [
    "### Criar a coluna duration_s transformando a variável duration_ms para segundos"
   ]
  },
  {
   "cell_type": "code",
   "execution_count": 115,
   "metadata": {},
   "outputs": [],
   "source": [
    "df['duration_s'] = df.duration_ms / 1000"
   ]
  },
  {
   "cell_type": "markdown",
   "metadata": {},
   "source": [
    "### Criar a coluna duration_m transformando a variável duration_ms para minutos"
   ]
  },
  {
   "cell_type": "code",
   "execution_count": 116,
   "metadata": {},
   "outputs": [],
   "source": [
    "df['duration_m'] = df.duration_ms / 60000"
   ]
  },
  {
   "cell_type": "markdown",
   "metadata": {},
   "source": [
    "### Criar a coluna number_of_artists com o número de artistas em cada música"
   ]
  },
  {
   "cell_type": "code",
   "execution_count": 117,
   "metadata": {},
   "outputs": [],
   "source": [
    "df['number_of_artists'] = (df['artists'].str.count(';') + 1).astype(int)"
   ]
  },
  {
   "cell_type": "markdown",
   "metadata": {},
   "source": [
    "### Criar a coluna is_remix a partir da identificação da palavra Remix no nome da música"
   ]
  },
  {
   "cell_type": "code",
   "execution_count": 118,
   "metadata": {},
   "outputs": [],
   "source": [
    "df['is_remix'] = df['track_name'].str.count('remix')"
   ]
  },
  {
   "cell_type": "code",
   "execution_count": 119,
   "metadata": {},
   "outputs": [],
   "source": [
    "df['is_remix'] = df['is_remix'].replace({\n",
    "    0: 'No',\n",
    "    1: 'Yes'\n",
    "})"
   ]
  },
  {
   "cell_type": "markdown",
   "metadata": {},
   "source": [
    "### Criar a coluna is_remastered a partir da identificação da palavra Remastered no nome da música"
   ]
  },
  {
   "cell_type": "code",
   "execution_count": 120,
   "metadata": {},
   "outputs": [],
   "source": [
    "df['is_remastered'] = df['track_name'].str.count('remastered')"
   ]
  },
  {
   "cell_type": "code",
   "execution_count": 121,
   "metadata": {},
   "outputs": [],
   "source": [
    "df['is_remastered'] = df['is_remastered'].replace({\n",
    "    0: 'No',\n",
    "    1: 'Yes'\n",
    "})"
   ]
  },
  {
   "cell_type": "markdown",
   "metadata": {},
   "source": [
    "### salvar nova base"
   ]
  },
  {
   "cell_type": "code",
   "execution_count": 122,
   "metadata": {},
   "outputs": [],
   "source": [
    "df.to_csv('spotify.csv', index=False)"
   ]
  },
  {
   "cell_type": "markdown",
   "metadata": {},
   "source": [
    "# Dia 2"
   ]
  },
  {
   "cell_type": "code",
   "execution_count": 245,
   "metadata": {},
   "outputs": [],
   "source": [
    "df = pd.read_csv('spotify.csv')"
   ]
  },
  {
   "cell_type": "code",
   "execution_count": 174,
   "metadata": {},
   "outputs": [
    {
     "data": {
      "text/html": [
       "<div>\n",
       "<style scoped>\n",
       "    .dataframe tbody tr th:only-of-type {\n",
       "        vertical-align: middle;\n",
       "    }\n",
       "\n",
       "    .dataframe tbody tr th {\n",
       "        vertical-align: top;\n",
       "    }\n",
       "\n",
       "    .dataframe thead th {\n",
       "        text-align: right;\n",
       "    }\n",
       "</style>\n",
       "<table border=\"1\" class=\"dataframe\">\n",
       "  <thead>\n",
       "    <tr style=\"text-align: right;\">\n",
       "      <th></th>\n",
       "      <th>track_id</th>\n",
       "      <th>artists</th>\n",
       "      <th>album_name</th>\n",
       "      <th>track_name</th>\n",
       "      <th>popularity</th>\n",
       "      <th>duration_ms</th>\n",
       "      <th>explicit</th>\n",
       "      <th>danceability</th>\n",
       "      <th>energy</th>\n",
       "      <th>key</th>\n",
       "      <th>...</th>\n",
       "      <th>valence</th>\n",
       "      <th>tempo</th>\n",
       "      <th>time_signature</th>\n",
       "      <th>track_genre</th>\n",
       "      <th>album_extra</th>\n",
       "      <th>duration_s</th>\n",
       "      <th>duration_m</th>\n",
       "      <th>number_of_artists</th>\n",
       "      <th>is_remix</th>\n",
       "      <th>is_remastered</th>\n",
       "    </tr>\n",
       "  </thead>\n",
       "  <tbody>\n",
       "    <tr>\n",
       "      <th>20001</th>\n",
       "      <td>3nqQXoyQOWXiESFLlDF1hG</td>\n",
       "      <td>Sam Smith;Kim Petras</td>\n",
       "      <td>Unholy</td>\n",
       "      <td>Unholy (feat. Kim Petras)</td>\n",
       "      <td>100</td>\n",
       "      <td>156943</td>\n",
       "      <td>No</td>\n",
       "      <td>72.48731</td>\n",
       "      <td>47.2</td>\n",
       "      <td>2</td>\n",
       "      <td>...</td>\n",
       "      <td>23.919598</td>\n",
       "      <td>131.121</td>\n",
       "      <td>4</td>\n",
       "      <td>Dance</td>\n",
       "      <td>feat. Kim Petras</td>\n",
       "      <td>156.943</td>\n",
       "      <td>2.615717</td>\n",
       "      <td>2</td>\n",
       "      <td>No</td>\n",
       "      <td>No</td>\n",
       "    </tr>\n",
       "    <tr>\n",
       "      <th>81050</th>\n",
       "      <td>3nqQXoyQOWXiESFLlDF1hG</td>\n",
       "      <td>Sam Smith;Kim Petras</td>\n",
       "      <td>Unholy</td>\n",
       "      <td>Unholy (feat. Kim Petras)</td>\n",
       "      <td>100</td>\n",
       "      <td>156943</td>\n",
       "      <td>No</td>\n",
       "      <td>72.48731</td>\n",
       "      <td>47.2</td>\n",
       "      <td>2</td>\n",
       "      <td>...</td>\n",
       "      <td>23.919598</td>\n",
       "      <td>131.121</td>\n",
       "      <td>4</td>\n",
       "      <td>Pop</td>\n",
       "      <td>feat. Kim Petras</td>\n",
       "      <td>156.943</td>\n",
       "      <td>2.615717</td>\n",
       "      <td>2</td>\n",
       "      <td>No</td>\n",
       "      <td>No</td>\n",
       "    </tr>\n",
       "  </tbody>\n",
       "</table>\n",
       "<p>2 rows × 26 columns</p>\n",
       "</div>"
      ],
      "text/plain": [
       "                     track_id               artists album_name  \\\n",
       "20001  3nqQXoyQOWXiESFLlDF1hG  Sam Smith;Kim Petras    Unholy    \n",
       "81050  3nqQXoyQOWXiESFLlDF1hG  Sam Smith;Kim Petras    Unholy    \n",
       "\n",
       "                      track_name  popularity  duration_ms explicit  \\\n",
       "20001  Unholy (feat. Kim Petras)         100       156943       No   \n",
       "81050  Unholy (feat. Kim Petras)         100       156943       No   \n",
       "\n",
       "       danceability  energy  key  ...    valence    tempo  time_signature  \\\n",
       "20001      72.48731    47.2    2  ...  23.919598  131.121               4   \n",
       "81050      72.48731    47.2    2  ...  23.919598  131.121               4   \n",
       "\n",
       "       track_genre       album_extra  duration_s  duration_m  \\\n",
       "20001        Dance  feat. Kim Petras     156.943    2.615717   \n",
       "81050          Pop  feat. Kim Petras     156.943    2.615717   \n",
       "\n",
       "       number_of_artists  is_remix is_remastered  \n",
       "20001                  2        No            No  \n",
       "81050                  2        No            No  \n",
       "\n",
       "[2 rows x 26 columns]"
      ]
     },
     "execution_count": 174,
     "metadata": {},
     "output_type": "execute_result"
    }
   ],
   "source": [
    "df[df.popularity == 100]"
   ]
  },
  {
   "cell_type": "markdown",
   "metadata": {},
   "source": [
    "### Identificar os artistas mais populares"
   ]
  },
  {
   "cell_type": "markdown",
   "metadata": {},
   "source": [
    "### artistas com a média maior\n",
    "(aqui alguns artistas possuem apenas uma música)"
   ]
  },
  {
   "cell_type": "code",
   "execution_count": 230,
   "metadata": {},
   "outputs": [
    {
     "data": {
      "text/plain": [
       "artists\n",
       "Sidhu Moose Wala;The Kidd      1\n",
       "India Martinez;Melendi         1\n",
       "Ronnie Lovejoy                 1\n",
       "Indian Ocean;Karsh Kale        1\n",
       "Ronnie Hawkins                 1\n",
       "                            ... \n",
       "Ella Fitzgerald              222\n",
       "Linkin Park                  224\n",
       "Stevie Wonder                236\n",
       "George Jones                 271\n",
       "The Beatles                  279\n",
       "Name: popularity, Length: 31437, dtype: int64"
      ]
     },
     "execution_count": 230,
     "metadata": {},
     "output_type": "execute_result"
    }
   ],
   "source": [
    "df.groupby('artists').popularity.count().sort_values()"
   ]
  },
  {
   "cell_type": "code",
   "execution_count": 233,
   "metadata": {},
   "outputs": [
    {
     "data": {
      "text/html": [
       "<div>\n",
       "<style scoped>\n",
       "    .dataframe tbody tr th:only-of-type {\n",
       "        vertical-align: middle;\n",
       "    }\n",
       "\n",
       "    .dataframe tbody tr th {\n",
       "        vertical-align: top;\n",
       "    }\n",
       "\n",
       "    .dataframe thead th {\n",
       "        text-align: right;\n",
       "    }\n",
       "</style>\n",
       "<table border=\"1\" class=\"dataframe\">\n",
       "  <thead>\n",
       "    <tr style=\"text-align: right;\">\n",
       "      <th></th>\n",
       "      <th>artists</th>\n",
       "      <th>popularity</th>\n",
       "    </tr>\n",
       "  </thead>\n",
       "  <tbody>\n",
       "    <tr>\n",
       "      <th>0</th>\n",
       "      <td>Sam Smith;Kim Petras</td>\n",
       "      <td>100.0</td>\n",
       "    </tr>\n",
       "    <tr>\n",
       "      <th>1</th>\n",
       "      <td>Bizarrap;Quevedo</td>\n",
       "      <td>99.0</td>\n",
       "    </tr>\n",
       "    <tr>\n",
       "      <th>2</th>\n",
       "      <td>Manuel Turizo</td>\n",
       "      <td>98.0</td>\n",
       "    </tr>\n",
       "    <tr>\n",
       "      <th>3</th>\n",
       "      <td>Bad Bunny;Chencho Corleone</td>\n",
       "      <td>97.0</td>\n",
       "    </tr>\n",
       "    <tr>\n",
       "      <th>4</th>\n",
       "      <td>Bad Bunny;Bomba Estéreo</td>\n",
       "      <td>94.5</td>\n",
       "    </tr>\n",
       "    <tr>\n",
       "      <th>5</th>\n",
       "      <td>Joji</td>\n",
       "      <td>94.0</td>\n",
       "    </tr>\n",
       "    <tr>\n",
       "      <th>6</th>\n",
       "      <td>Beyoncé</td>\n",
       "      <td>93.0</td>\n",
       "    </tr>\n",
       "    <tr>\n",
       "      <th>7</th>\n",
       "      <td>Harry Styles</td>\n",
       "      <td>92.0</td>\n",
       "    </tr>\n",
       "    <tr>\n",
       "      <th>8</th>\n",
       "      <td>Rema;Selena Gomez</td>\n",
       "      <td>92.0</td>\n",
       "    </tr>\n",
       "    <tr>\n",
       "      <th>9</th>\n",
       "      <td>Rauw Alejandro;Lyanno;Brray</td>\n",
       "      <td>91.0</td>\n",
       "    </tr>\n",
       "  </tbody>\n",
       "</table>\n",
       "</div>"
      ],
      "text/plain": [
       "                       artists  popularity\n",
       "0         Sam Smith;Kim Petras       100.0\n",
       "1             Bizarrap;Quevedo        99.0\n",
       "2                Manuel Turizo        98.0\n",
       "3   Bad Bunny;Chencho Corleone        97.0\n",
       "4      Bad Bunny;Bomba Estéreo        94.5\n",
       "5                         Joji        94.0\n",
       "6                      Beyoncé        93.0\n",
       "7                 Harry Styles        92.0\n",
       "8            Rema;Selena Gomez        92.0\n",
       "9  Rauw Alejandro;Lyanno;Brray        91.0"
      ]
     },
     "execution_count": 233,
     "metadata": {},
     "output_type": "execute_result"
    }
   ],
   "source": [
    "df_populares = df.groupby('artists').popularity.mean().sort_values(ascending=False).head(10).reset_index()\n",
    "df_populares"
   ]
  },
  {
   "cell_type": "code",
   "execution_count": 234,
   "metadata": {},
   "outputs": [
    {
     "data": {
      "image/png": "[encoded data removed]",
      "text/plain": [
       "<Figure size 640x480 with 1 Axes>"
      ]
     },
     "metadata": {},
     "output_type": "display_data"
    }
   ],
   "source": [
    "sns.barplot(data=df_populares, x='popularity', y='artists');"
   ]
  },
  {
   "cell_type": "markdown",
   "metadata": {},
   "source": [
    "### Analisar a distribuição de número de artistas por música\n",
    "\n",
    "artistas podem ter músicas com o mesmo nome mas com letras e melodias diferentes\n",
    "        ex: Alone"
   ]
  },
  {
   "cell_type": "code",
   "execution_count": 242,
   "metadata": {},
   "outputs": [
    {
     "data": {
      "text/html": [
       "<div>\n",
       "<style scoped>\n",
       "    .dataframe tbody tr th:only-of-type {\n",
       "        vertical-align: middle;\n",
       "    }\n",
       "\n",
       "    .dataframe tbody tr th {\n",
       "        vertical-align: top;\n",
       "    }\n",
       "\n",
       "    .dataframe thead th {\n",
       "        text-align: right;\n",
       "    }\n",
       "</style>\n",
       "<table border=\"1\" class=\"dataframe\">\n",
       "  <thead>\n",
       "    <tr style=\"text-align: right;\">\n",
       "      <th></th>\n",
       "      <th>track_id</th>\n",
       "      <th>artists</th>\n",
       "      <th>album_name</th>\n",
       "      <th>track_name</th>\n",
       "      <th>popularity</th>\n",
       "      <th>duration_ms</th>\n",
       "      <th>explicit</th>\n",
       "      <th>danceability</th>\n",
       "      <th>energy</th>\n",
       "      <th>key</th>\n",
       "      <th>...</th>\n",
       "      <th>valence</th>\n",
       "      <th>tempo</th>\n",
       "      <th>time_signature</th>\n",
       "      <th>track_genre</th>\n",
       "      <th>album_extra</th>\n",
       "      <th>duration_s</th>\n",
       "      <th>duration_m</th>\n",
       "      <th>number_of_artists</th>\n",
       "      <th>is_remix</th>\n",
       "      <th>is_remastered</th>\n",
       "    </tr>\n",
       "  </thead>\n",
       "  <tbody>\n",
       "    <tr>\n",
       "      <th>8023</th>\n",
       "      <td>72E3wMPI5tVY7VoEWLSuhf</td>\n",
       "      <td>Ella Fitzgerald</td>\n",
       "      <td>CHRISTMAS TOP HITS 2022</td>\n",
       "      <td>Frosty The Snowman</td>\n",
       "      <td>0</td>\n",
       "      <td>131733</td>\n",
       "      <td>No</td>\n",
       "      <td>58.781726</td>\n",
       "      <td>50.2</td>\n",
       "      <td>8</td>\n",
       "      <td>...</td>\n",
       "      <td>84.020101</td>\n",
       "      <td>76.783</td>\n",
       "      <td>4</td>\n",
       "      <td>Blues</td>\n",
       "      <td>NaN</td>\n",
       "      <td>131.733</td>\n",
       "      <td>2.195550</td>\n",
       "      <td>1</td>\n",
       "      <td>No</td>\n",
       "      <td>No</td>\n",
       "    </tr>\n",
       "    <tr>\n",
       "      <th>8024</th>\n",
       "      <td>7vvQrcQCfq7SB8mxO9CRHq</td>\n",
       "      <td>Ella Fitzgerald</td>\n",
       "      <td>Rockin' Around The Christmas Tree 2022</td>\n",
       "      <td>Frosty The Snowman</td>\n",
       "      <td>0</td>\n",
       "      <td>131733</td>\n",
       "      <td>No</td>\n",
       "      <td>58.781726</td>\n",
       "      <td>50.2</td>\n",
       "      <td>8</td>\n",
       "      <td>...</td>\n",
       "      <td>84.020101</td>\n",
       "      <td>76.783</td>\n",
       "      <td>4</td>\n",
       "      <td>Blues</td>\n",
       "      <td>NaN</td>\n",
       "      <td>131.733</td>\n",
       "      <td>2.195550</td>\n",
       "      <td>1</td>\n",
       "      <td>No</td>\n",
       "      <td>No</td>\n",
       "    </tr>\n",
       "    <tr>\n",
       "      <th>8034</th>\n",
       "      <td>6UPkgLF8SfiVmVGy5RYvIc</td>\n",
       "      <td>Ella Fitzgerald</td>\n",
       "      <td>World's Best Christmas Playlist</td>\n",
       "      <td>Frosty The Snowman</td>\n",
       "      <td>0</td>\n",
       "      <td>131733</td>\n",
       "      <td>No</td>\n",
       "      <td>58.781726</td>\n",
       "      <td>50.2</td>\n",
       "      <td>8</td>\n",
       "      <td>...</td>\n",
       "      <td>84.020101</td>\n",
       "      <td>76.783</td>\n",
       "      <td>4</td>\n",
       "      <td>Blues</td>\n",
       "      <td>NaN</td>\n",
       "      <td>131.733</td>\n",
       "      <td>2.195550</td>\n",
       "      <td>1</td>\n",
       "      <td>No</td>\n",
       "      <td>No</td>\n",
       "    </tr>\n",
       "    <tr>\n",
       "      <th>8036</th>\n",
       "      <td>1LFJLpGF7gexCurvUsjqG9</td>\n",
       "      <td>Ella Fitzgerald</td>\n",
       "      <td>Santa Claus Is Coming To Town</td>\n",
       "      <td>Frosty The Snowman</td>\n",
       "      <td>0</td>\n",
       "      <td>131733</td>\n",
       "      <td>No</td>\n",
       "      <td>58.781726</td>\n",
       "      <td>50.2</td>\n",
       "      <td>8</td>\n",
       "      <td>...</td>\n",
       "      <td>84.020101</td>\n",
       "      <td>76.783</td>\n",
       "      <td>4</td>\n",
       "      <td>Blues</td>\n",
       "      <td>NaN</td>\n",
       "      <td>131.733</td>\n",
       "      <td>2.195550</td>\n",
       "      <td>1</td>\n",
       "      <td>No</td>\n",
       "      <td>No</td>\n",
       "    </tr>\n",
       "    <tr>\n",
       "      <th>8050</th>\n",
       "      <td>0edRP0RpOUrjHbbGPSYzaH</td>\n",
       "      <td>Ella Fitzgerald</td>\n",
       "      <td>Christmas Songs 2022</td>\n",
       "      <td>Frosty The Snowman</td>\n",
       "      <td>4</td>\n",
       "      <td>131733</td>\n",
       "      <td>No</td>\n",
       "      <td>58.781726</td>\n",
       "      <td>50.2</td>\n",
       "      <td>8</td>\n",
       "      <td>...</td>\n",
       "      <td>84.020101</td>\n",
       "      <td>76.783</td>\n",
       "      <td>4</td>\n",
       "      <td>Blues</td>\n",
       "      <td>NaN</td>\n",
       "      <td>131.733</td>\n",
       "      <td>2.195550</td>\n",
       "      <td>1</td>\n",
       "      <td>No</td>\n",
       "      <td>No</td>\n",
       "    </tr>\n",
       "    <tr>\n",
       "      <th>...</th>\n",
       "      <td>...</td>\n",
       "      <td>...</td>\n",
       "      <td>...</td>\n",
       "      <td>...</td>\n",
       "      <td>...</td>\n",
       "      <td>...</td>\n",
       "      <td>...</td>\n",
       "      <td>...</td>\n",
       "      <td>...</td>\n",
       "      <td>...</td>\n",
       "      <td>...</td>\n",
       "      <td>...</td>\n",
       "      <td>...</td>\n",
       "      <td>...</td>\n",
       "      <td>...</td>\n",
       "      <td>...</td>\n",
       "      <td>...</td>\n",
       "      <td>...</td>\n",
       "      <td>...</td>\n",
       "      <td>...</td>\n",
       "      <td>...</td>\n",
       "    </tr>\n",
       "    <tr>\n",
       "      <th>103378</th>\n",
       "      <td>7zEvaoS81Ta2d3D5p7zTgX</td>\n",
       "      <td>The Jackson 5</td>\n",
       "      <td>Xmas Classics 2022</td>\n",
       "      <td>Frosty The Snowman</td>\n",
       "      <td>0</td>\n",
       "      <td>159413</td>\n",
       "      <td>No</td>\n",
       "      <td>68.223350</td>\n",
       "      <td>61.5</td>\n",
       "      <td>0</td>\n",
       "      <td>...</td>\n",
       "      <td>94.874372</td>\n",
       "      <td>119.693</td>\n",
       "      <td>4</td>\n",
       "      <td>Soul</td>\n",
       "      <td>NaN</td>\n",
       "      <td>159.413</td>\n",
       "      <td>2.656883</td>\n",
       "      <td>1</td>\n",
       "      <td>No</td>\n",
       "      <td>No</td>\n",
       "    </tr>\n",
       "    <tr>\n",
       "      <th>103383</th>\n",
       "      <td>7tgZA5AwbrKa9o5SLOgi1D</td>\n",
       "      <td>The Jackson 5</td>\n",
       "      <td>A Very 70s Christmas</td>\n",
       "      <td>Frosty The Snowman</td>\n",
       "      <td>0</td>\n",
       "      <td>159413</td>\n",
       "      <td>No</td>\n",
       "      <td>68.223350</td>\n",
       "      <td>61.5</td>\n",
       "      <td>0</td>\n",
       "      <td>...</td>\n",
       "      <td>94.874372</td>\n",
       "      <td>119.693</td>\n",
       "      <td>4</td>\n",
       "      <td>Soul</td>\n",
       "      <td>NaN</td>\n",
       "      <td>159.413</td>\n",
       "      <td>2.656883</td>\n",
       "      <td>1</td>\n",
       "      <td>No</td>\n",
       "      <td>No</td>\n",
       "    </tr>\n",
       "    <tr>\n",
       "      <th>103397</th>\n",
       "      <td>6u9PfqfVWCglvZ6mN4Y5SJ</td>\n",
       "      <td>The Jackson 5</td>\n",
       "      <td>Soulful Christmas</td>\n",
       "      <td>Frosty The Snowman</td>\n",
       "      <td>0</td>\n",
       "      <td>159413</td>\n",
       "      <td>No</td>\n",
       "      <td>68.223350</td>\n",
       "      <td>61.5</td>\n",
       "      <td>0</td>\n",
       "      <td>...</td>\n",
       "      <td>94.874372</td>\n",
       "      <td>119.693</td>\n",
       "      <td>4</td>\n",
       "      <td>Soul</td>\n",
       "      <td>NaN</td>\n",
       "      <td>159.413</td>\n",
       "      <td>2.656883</td>\n",
       "      <td>1</td>\n",
       "      <td>No</td>\n",
       "      <td>No</td>\n",
       "    </tr>\n",
       "    <tr>\n",
       "      <th>103398</th>\n",
       "      <td>1MrOVIoFNsJKY01ul5WMxT</td>\n",
       "      <td>The Jackson 5</td>\n",
       "      <td>Christmas Soul Classics</td>\n",
       "      <td>Frosty The Snowman</td>\n",
       "      <td>0</td>\n",
       "      <td>159413</td>\n",
       "      <td>No</td>\n",
       "      <td>68.223350</td>\n",
       "      <td>61.5</td>\n",
       "      <td>0</td>\n",
       "      <td>...</td>\n",
       "      <td>94.874372</td>\n",
       "      <td>119.693</td>\n",
       "      <td>4</td>\n",
       "      <td>Soul</td>\n",
       "      <td>NaN</td>\n",
       "      <td>159.413</td>\n",
       "      <td>2.656883</td>\n",
       "      <td>1</td>\n",
       "      <td>No</td>\n",
       "      <td>No</td>\n",
       "    </tr>\n",
       "    <tr>\n",
       "      <th>103447</th>\n",
       "      <td>6bDigKwkMUuAxEUSMsDURL</td>\n",
       "      <td>The Jackson 5</td>\n",
       "      <td>Weihnachten Playlist</td>\n",
       "      <td>Frosty The Snowman</td>\n",
       "      <td>0</td>\n",
       "      <td>159413</td>\n",
       "      <td>No</td>\n",
       "      <td>68.223350</td>\n",
       "      <td>61.5</td>\n",
       "      <td>0</td>\n",
       "      <td>...</td>\n",
       "      <td>94.874372</td>\n",
       "      <td>119.693</td>\n",
       "      <td>4</td>\n",
       "      <td>Soul</td>\n",
       "      <td>NaN</td>\n",
       "      <td>159.413</td>\n",
       "      <td>2.656883</td>\n",
       "      <td>1</td>\n",
       "      <td>No</td>\n",
       "      <td>No</td>\n",
       "    </tr>\n",
       "  </tbody>\n",
       "</table>\n",
       "<p>81 rows × 26 columns</p>\n",
       "</div>"
      ],
      "text/plain": [
       "                      track_id          artists  \\\n",
       "8023    72E3wMPI5tVY7VoEWLSuhf  Ella Fitzgerald   \n",
       "8024    7vvQrcQCfq7SB8mxO9CRHq  Ella Fitzgerald   \n",
       "8034    6UPkgLF8SfiVmVGy5RYvIc  Ella Fitzgerald   \n",
       "8036    1LFJLpGF7gexCurvUsjqG9  Ella Fitzgerald   \n",
       "8050    0edRP0RpOUrjHbbGPSYzaH  Ella Fitzgerald   \n",
       "...                        ...              ...   \n",
       "103378  7zEvaoS81Ta2d3D5p7zTgX    The Jackson 5   \n",
       "103383  7tgZA5AwbrKa9o5SLOgi1D    The Jackson 5   \n",
       "103397  6u9PfqfVWCglvZ6mN4Y5SJ    The Jackson 5   \n",
       "103398  1MrOVIoFNsJKY01ul5WMxT    The Jackson 5   \n",
       "103447  6bDigKwkMUuAxEUSMsDURL    The Jackson 5   \n",
       "\n",
       "                                    album_name          track_name  \\\n",
       "8023                   CHRISTMAS TOP HITS 2022  Frosty The Snowman   \n",
       "8024    Rockin' Around The Christmas Tree 2022  Frosty The Snowman   \n",
       "8034           World's Best Christmas Playlist  Frosty The Snowman   \n",
       "8036             Santa Claus Is Coming To Town  Frosty The Snowman   \n",
       "8050                      Christmas Songs 2022  Frosty The Snowman   \n",
       "...                                        ...                 ...   \n",
       "103378                      Xmas Classics 2022  Frosty The Snowman   \n",
       "103383                    A Very 70s Christmas  Frosty The Snowman   \n",
       "103397                       Soulful Christmas  Frosty The Snowman   \n",
       "103398                 Christmas Soul Classics  Frosty The Snowman   \n",
       "103447                    Weihnachten Playlist  Frosty The Snowman   \n",
       "\n",
       "        popularity  duration_ms explicit  danceability  energy  key  ...  \\\n",
       "8023             0       131733       No     58.781726    50.2    8  ...   \n",
       "8024             0       131733       No     58.781726    50.2    8  ...   \n",
       "8034             0       131733       No     58.781726    50.2    8  ...   \n",
       "8036             0       131733       No     58.781726    50.2    8  ...   \n",
       "8050             4       131733       No     58.781726    50.2    8  ...   \n",
       "...            ...          ...      ...           ...     ...  ...  ...   \n",
       "103378           0       159413       No     68.223350    61.5    0  ...   \n",
       "103383           0       159413       No     68.223350    61.5    0  ...   \n",
       "103397           0       159413       No     68.223350    61.5    0  ...   \n",
       "103398           0       159413       No     68.223350    61.5    0  ...   \n",
       "103447           0       159413       No     68.223350    61.5    0  ...   \n",
       "\n",
       "          valence    tempo  time_signature  track_genre  album_extra  \\\n",
       "8023    84.020101   76.783               4        Blues          NaN   \n",
       "8024    84.020101   76.783               4        Blues          NaN   \n",
       "8034    84.020101   76.783               4        Blues          NaN   \n",
       "8036    84.020101   76.783               4        Blues          NaN   \n",
       "8050    84.020101   76.783               4        Blues          NaN   \n",
       "...           ...      ...             ...          ...          ...   \n",
       "103378  94.874372  119.693               4         Soul          NaN   \n",
       "103383  94.874372  119.693               4         Soul          NaN   \n",
       "103397  94.874372  119.693               4         Soul          NaN   \n",
       "103398  94.874372  119.693               4         Soul          NaN   \n",
       "103447  94.874372  119.693               4         Soul          NaN   \n",
       "\n",
       "        duration_s  duration_m  number_of_artists  is_remix is_remastered  \n",
       "8023       131.733    2.195550                  1        No            No  \n",
       "8024       131.733    2.195550                  1        No            No  \n",
       "8034       131.733    2.195550                  1        No            No  \n",
       "8036       131.733    2.195550                  1        No            No  \n",
       "8050       131.733    2.195550                  1        No            No  \n",
       "...            ...         ...                ...       ...           ...  \n",
       "103378     159.413    2.656883                  1        No            No  \n",
       "103383     159.413    2.656883                  1        No            No  \n",
       "103397     159.413    2.656883                  1        No            No  \n",
       "103398     159.413    2.656883                  1        No            No  \n",
       "103447     159.413    2.656883                  1        No            No  \n",
       "\n",
       "[81 rows x 26 columns]"
      ]
     },
     "execution_count": 242,
     "metadata": {},
     "output_type": "execute_result"
    }
   ],
   "source": [
    "# uma música do mesmo artista pode estar em muitas playlists diferentes\n",
    "df[df['track_name'] == 'Frosty The Snowman']"
   ]
  },
  {
   "cell_type": "code",
   "execution_count": 196,
   "metadata": {},
   "outputs": [],
   "source": [
    "df_artistas_musica = df[['track_name', 'artists']].drop_duplicates(keep='first')"
   ]
  },
  {
   "cell_type": "code",
   "execution_count": 200,
   "metadata": {},
   "outputs": [
    {
     "data": {
      "text/html": [
       "<div>\n",
       "<style scoped>\n",
       "    .dataframe tbody tr th:only-of-type {\n",
       "        vertical-align: middle;\n",
       "    }\n",
       "\n",
       "    .dataframe tbody tr th {\n",
       "        vertical-align: top;\n",
       "    }\n",
       "\n",
       "    .dataframe thead th {\n",
       "        text-align: right;\n",
       "    }\n",
       "</style>\n",
       "<table border=\"1\" class=\"dataframe\">\n",
       "  <thead>\n",
       "    <tr style=\"text-align: right;\">\n",
       "      <th></th>\n",
       "      <th>track_name</th>\n",
       "      <th>artists</th>\n",
       "    </tr>\n",
       "  </thead>\n",
       "  <tbody>\n",
       "    <tr>\n",
       "      <th>8023</th>\n",
       "      <td>Frosty The Snowman</td>\n",
       "      <td>Ella Fitzgerald</td>\n",
       "    </tr>\n",
       "    <tr>\n",
       "      <th>66043</th>\n",
       "      <td>Frosty The Snowman</td>\n",
       "      <td>Cooltime Kids</td>\n",
       "    </tr>\n",
       "    <tr>\n",
       "      <th>103325</th>\n",
       "      <td>Frosty The Snowman</td>\n",
       "      <td>The Jackson 5</td>\n",
       "    </tr>\n",
       "  </tbody>\n",
       "</table>\n",
       "</div>"
      ],
      "text/plain": [
       "                track_name          artists\n",
       "8023    Frosty The Snowman  Ella Fitzgerald\n",
       "66043   Frosty The Snowman    Cooltime Kids\n",
       "103325  Frosty The Snowman    The Jackson 5"
      ]
     },
     "execution_count": 200,
     "metadata": {},
     "output_type": "execute_result"
    }
   ],
   "source": [
    "df_artistas_musica[df_artistas_musica['track_name'] == 'Frosty The Snowman']"
   ]
  },
  {
   "cell_type": "markdown",
   "metadata": {},
   "source": [
    "as musicas que mais foram gravadas por artistas são natalinas como, Run Rudolph Run, Frosty The Snowman e Christmas Time"
   ]
  },
  {
   "cell_type": "code",
   "execution_count": 198,
   "metadata": {},
   "outputs": [
    {
     "data": {
      "text/plain": [
       "track_name\n",
       "Home           24\n",
       "Paradise       22\n",
       "Alone          21\n",
       "Without You    18\n",
       "Intro          18\n",
       "Heaven         17\n",
       "Stay           16\n",
       "You            16\n",
       "Hold On        16\n",
       "Monster        16\n",
       "Name: artists, dtype: int64"
      ]
     },
     "execution_count": 198,
     "metadata": {},
     "output_type": "execute_result"
    }
   ],
   "source": [
    "df_am = df_artistas_musica.groupby('track_name').artists.count().sort_values(ascending=False)\n",
    "df_am.head(10)"
   ]
  },
  {
   "cell_type": "markdown",
   "metadata": {},
   "source": [
    "### Analisar a relação entre as variáveis energy e loudness "
   ]
  },
  {
   "cell_type": "code",
   "execution_count": 257,
   "metadata": {},
   "outputs": [
    {
     "data": {
      "image/png": "[encoded data removed]",
      "text/plain": [
       "<Figure size 640x480 with 1 Axes>"
      ]
     },
     "metadata": {},
     "output_type": "display_data"
    }
   ],
   "source": [
    "sns.scatterplot(data=df[df['popularity'] > 50], x='loudness', y='energy', hue='popularity');"
   ]
  },
  {
   "cell_type": "code",
   "execution_count": 259,
   "metadata": {},
   "outputs": [
    {
     "data": {
      "image/png": "[encoded data removed]",
      "text/plain": [
       "<Figure size 640x480 with 2 Axes>"
      ]
     },
     "metadata": {},
     "output_type": "display_data"
    }
   ],
   "source": [
    "\n",
    "sns.heatmap(df[['loudness', 'energy']].corr(method='pearson', numeric_only=True), annot=True);"
   ]
  },
  {
   "cell_type": "code",
   "execution_count": null,
   "metadata": {},
   "outputs": [],
   "source": []
  }
 ],
 "metadata": {
  "kernelspec": {
   "display_name": "analise-spotify-5dPikLim-py3.10",
   "language": "python",
   "name": "python3"
  },
  "language_info": {
   "codemirror_mode": {
    "name": "ipython",
    "version": 3
   },
   "file_extension": ".py",
   "mimetype": "text/x-python",
   "name": "python",
   "nbconvert_exporter": "python",
   "pygments_lexer": "ipython3",
   "version": "3.10.12"
  }
 },
 "nbformat": 4,
 "nbformat_minor": 2
}
